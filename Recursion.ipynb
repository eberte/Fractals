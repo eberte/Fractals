{
 "cells": [
  {
   "cell_type": "markdown",
   "metadata": {},
   "source": [
    "# Different examples of recursion using Python's Turtle library."
   ]
  },
  {
   "cell_type": "markdown",
   "metadata": {},
   "source": [
    "# Importing \n",
    "To start, I will import Python's Turtle library and its Random library."
   ]
  },
  {
   "cell_type": "code",
   "execution_count": 1,
   "metadata": {},
   "outputs": [],
   "source": [
    "import turtle     \n",
    "import random"
   ]
  },
  {
   "cell_type": "markdown",
   "metadata": {},
   "source": [
    "Our first example of recursion will be a tree function, but with a twist. This tree's \"branch\" angles have been randomized so they can have a measure betweeh 10 and 60 degrees using the random.randint command to make the angle measures between 10 and 60 degrees. Along with the angles, I have also randomized the length of the \"branches\" of the tree using the random.uniform command and limited the lengths from anywhere between 10 and 100 length units. For the base case, I said if my recursion depth is less than or equal to 1, I told the turtle to go forwards and backwards. For any other depth, I told the turtle to set its speed to 0, or fastest, and to draw a forward line. "
   ]
  },
  {
   "cell_type": "code",
   "execution_count": 2,
   "metadata": {},
   "outputs": [],
   "source": [
    "def tree(tortoise, length, depth, angle):\n",
    "    length = random.uniform(10, 100)\n",
    "    angle = random.randint(10, 60)  \n",
    "    if depth <= 1:                     \n",
    "        tortoise.forward(length)\n",
    "        tortoise.backward(length)\n",
    "    else:                              \n",
    "        tortoise.speed(0)  \n",
    "        tortoise.forward(length)\n",
    "        tortoise.lt(angle)\n",
    "        tortoise.setheading(angle) \n",
    "        tree(tortoise, length * (2 / 3), depth - 1, angle) \n",
    "        tortoise.right(angle)\n",
    "        tortoise.setheading(angle)\n",
    "        tree(tortoise, length * (2 / 3), depth - 1, angle) \n",
    "        tortoise.left(angle)\n",
    "        tortoise.setheading(angle) \n",
    "        tortoise.backward(length)\n",
    "\n",
    "        "
   ]
  },
  {
   "cell_type": "markdown",
   "metadata": {},
   "source": []
  },
  {
   "cell_type": "code",
   "execution_count": 3,
   "metadata": {},
   "outputs": [],
   "source": [
    "def main():     \n",
    "    george = turtle.Turtle() \n",
    "    george.left(90)\n",
    "    angle = random.randint(10, 60) \n",
    "    tree(george, 100, 9, angle)\n",
    "    screen = george.getscreen() \n",
    "    screen.exitonclick() \n",
    "    \n",
    "    "
   ]
  },
  {
   "cell_type": "markdown",
   "metadata": {},
   "source": []
  },
  {
   "cell_type": "code",
   "execution_count": 6,
   "metadata": {},
   "outputs": [],
   "source": [
    "def quadkoch(tortoise, length, depth): #Defining the function, along with all parmameters\n",
    "\n",
    "    if depth == 0:                  \n",
    "        tortoise.fd(length) \n",
    "    else:                       \n",
    "        tortoise.speed(0) \n",
    "        quadkoch(tortoise, length / 3, depth - 1) \n",
    "        tortoise.lt(90)\n",
    "        quadkoch(tortoise, length / 3, depth - 1) \n",
    "        tortoise.rt(90)\n",
    "        quadkoch(tortoise, length / 3, depth - 1) \n",
    "        tortoise.rt(90)\n",
    "        quadkoch(tortoise, length / 3, depth - 1) \n",
    "        tortoise.lt(90)\n",
    "        quadkoch(tortoise, length / 3, depth - 1) "
   ]
  },
  {
   "cell_type": "markdown",
   "metadata": {},
   "source": []
  },
  {
   "cell_type": "code",
   "execution_count": null,
   "metadata": {},
   "outputs": [],
   "source": [
    "def main(): \n",
    "    george = turtle.Turtle() \n",
    "    quadkoch(george, 400, 3) \n",
    "    screen = george.getscreen() \n",
    "    screen.exitonclick() \n"
   ]
  },
  {
   "cell_type": "markdown",
   "metadata": {},
   "source": []
  },
  {
   "cell_type": "code",
   "execution_count": null,
   "metadata": {},
   "outputs": [],
   "source": [
    "def koch(tortoise, length, depth): \n",
    "\n",
    "    if depth == 0:              \n",
    "        tortoise.fd(length)\n",
    "    else:                   \n",
    "        tortoise.speed(0) \n",
    "        koch(tortoise, length / 3, depth - 1)\n",
    "        tortoise.lt(60)\n",
    "        koch(tortoise, length / 3, depth - 1) \n",
    "        tortoise.rt(120)\n",
    "        koch(tortoise, length / 3, depth - 1) \n",
    "        tortoise.lt(60)\n",
    "        koch(tortoise, length / 3, depth - 1) \n"
   ]
  },
  {
   "cell_type": "markdown",
   "metadata": {},
   "source": []
  },
  {
   "cell_type": "code",
   "execution_count": null,
   "metadata": {},
   "outputs": [],
   "source": [
    "def kochSnowFlake(tortoise, length, depth, sides): #Defining the second fuction, with all parameters.\n",
    "none\n",
    "\n",
    "    for side in range(sides): # for loop allowing for a polygon made of Koch curves, or a \"snowflake\"\n",
    "        koch(tortoise, length, depth)\n",
    "        angle = 360 / sides\n",
    "        tortoise.rt(angle)\n",
    "        turtle.setheading(angle)"
   ]
  },
  {
   "cell_type": "markdown",
   "metadata": {},
   "source": []
  },
  {
   "cell_type": "code",
   "execution_count": null,
   "metadata": {},
   "outputs": [],
   "source": [
    "def main(): \n",
    "    sides = input('How many sides do you want the snowflake to have?') \n",
    "    bob = turtle.Turtle() \n",
    "    kochSnowFlake(bob, 400, 3, int (sides))\n"
   ]
  },
  {
   "cell_type": "markdown",
   "metadata": {},
   "source": []
  },
  {
   "cell_type": "code",
   "execution_count": null,
   "metadata": {},
   "outputs": [],
   "source": [
    "def hilbert(tortoise, reverse, depth):\n",
    "        \n",
    "    if depth < 0:\n",
    "        return\n",
    "\n",
    "    if reverse == True:\n",
    "        tortoise.rt(90)\n",
    "        hilbert(tortoise, False, depth - 1)\n",
    "        tortoise.fd(10)\n",
    "        tortoise.lt(90)\n",
    "        hilbert(tortoise, reverse, depth - 1)\n",
    "        tortoise.fd(10)\n",
    "        hilbert(tortoise, reverse, depth - 1)\n",
    "        tortoise.lt(90)\n",
    "        tortoise.fd(10)\n",
    "        hilbert(tortoise, False, depth - 1)\n",
    "        tortoise.rt(90)\n",
    "        \n",
    "    else:\n",
    "        tortoise.lt(90)\n",
    "        hilbert(tortoise, True, depth - 1)\n",
    "        tortoise.fd(10)\n",
    "        tortoise.rt(90)\n",
    "        hilbert(tortoise, reverse, depth - 1)\n",
    "        tortoise.fd(10)\n",
    "        hilbert(tortoise, reverse, depth - 1)\n",
    "        tortoise.rt(90)\n",
    "        tortoise.fd(10)\n",
    "        hilbert(tortoise, True, depth - 1)\n",
    "        tortoise.lt(90)\n",
    "        "
   ]
  },
  {
   "cell_type": "markdown",
   "metadata": {},
   "source": []
  },
  {
   "cell_type": "code",
   "execution_count": null,
   "metadata": {},
   "outputs": [],
   "source": [
    "def main():\n",
    "    reverse = True\n",
    "    myTurtle = turtle.Turtle()\n",
    "    myTurtle.lt(90)\n",
    "    hilbert(myTurtle, reverse, 5)\n",
    "    screen = myTurtle.getscreen()\n",
    "    screen.exitonclick()"
   ]
  }
 ],
 "metadata": {
  "kernelspec": {
   "display_name": "Python 3",
   "language": "python",
   "name": "python3"
  },
  "language_info": {
   "codemirror_mode": {
    "name": "ipython",
    "version": 3
   },
   "file_extension": ".py",
   "mimetype": "text/x-python",
   "name": "python",
   "nbconvert_exporter": "python",
   "pygments_lexer": "ipython3",
   "version": "3.6.2"
  }
 },
 "nbformat": 4,
 "nbformat_minor": 2
}
